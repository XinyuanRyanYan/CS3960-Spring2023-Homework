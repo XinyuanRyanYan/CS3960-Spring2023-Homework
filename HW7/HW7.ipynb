{
 "cells": [
  {
   "cell_type": "markdown",
   "id": "c23d7cf4",
   "metadata": {},
   "source": [
    "## Fairness in regression\n",
    "\n",
    "In this project, we show how to check if the regression model discriminates a particular subgroup."
   ]
  },
  {
   "cell_type": "code",
   "execution_count": null,
   "id": "a6a1fa27",
   "metadata": {},
   "outputs": [],
   "source": [
    "import pandas as pd \n",
    "import numpy as np"
   ]
  },
  {
   "cell_type": "markdown",
   "id": "90f61195",
   "metadata": {},
   "source": [
    "### Data\n",
    "We use the [Communitties and Crime data](https://archive.ics.uci.edu/ml/datasets/communities+and+crime) and aim to predict the ```ViolentCrimesPerPop``` variable (total number of violent crimes per 100K population).\n",
    "\n",
    "The protected attribute is the ```racepctblack``` value (part of the population identifying as black)."
   ]
  },
  {
   "cell_type": "code",
   "execution_count": null,
   "id": "8dd6146f",
   "metadata": {},
   "outputs": [],
   "source": [
    "data = pd.read_csv(\"http://archive.ics.uci.edu/ml/machine-learning-databases/communities/communities.data\", header=None, na_values=[\"?\"])\n",
    "from urllib.request import urlopen\n",
    "names = urlopen(\"http://archive.ics.uci.edu/ml/machine-learning-databases/communities/communities.names\")\n",
    "columns = [line.split(b' ')[1].decode(\"utf-8\") for line in names if line.startswith(b'@attribute')]\n",
    "data.columns = columns\n",
    "data = data.dropna(axis = 1)\n",
    "data = data.iloc[:, 3:]\n",
    "data.head()\n",
    "X = data.drop('ViolentCrimesPerPop', axis=1)\n",
    "y = data.ViolentCrimesPerPop"
   ]
  },
  {
   "cell_type": "markdown",
   "id": "9979e32c",
   "metadata": {},
   "source": [
    "### Model\n",
    "In this part, we first split the data into training data and test data, then train the one regressor model: **Decision Tree** with the training data, finally evaluate the test data."
   ]
  },
  {
   "cell_type": "code",
   "execution_count": null,
   "id": "ad31c77d",
   "metadata": {},
   "outputs": [],
   "source": [
    "from sklearn.model_selection import train_test_split\n",
    "from sklearn.ensemble import RandomForestRegressor\n",
    "from sklearn.tree import DecisionTreeRegressor"
   ]
  },
  {
   "cell_type": "code",
   "execution_count": null,
   "id": "a2cd78cc",
   "metadata": {},
   "outputs": [],
   "source": [
    "X_train, X_test, y_train, y_test = train_test_split(X, y, random_state=42)"
   ]
  },
  {
   "cell_type": "code",
   "execution_count": null,
   "id": "7f9b59f7",
   "metadata": {},
   "outputs": [],
   "source": [
    "model = DecisionTreeRegressor()\n",
    "model.fit(X_train, y_train)\n",
    "prediction = dx.Explainer(model, X_test, y_test, verbose=False) # evaluate the test data "
   ]
  },
  {
   "cell_type": "markdown",
   "id": "4f3aaeb6",
   "metadata": {},
   "source": [
    "### Fairness in the model prediction\n",
    "We then assess models' fairness. To make sure that the models are fair, we will be checking three independence criteria. These are:\n",
    "* independence: R⊥A\n",
    "* separation: R⊥A ∣ Y\n",
    "* sufficiency: Y⊥A ∣ R\n",
    "\n",
    "Where:\n",
    "* A - protected group\n",
    "* Y - target\n",
    "* R - model's prediction"
   ]
  },
  {
   "cell_type": "code",
   "execution_count": null,
   "id": "bd991053",
   "metadata": {},
   "outputs": [],
   "source": [
    "import dalex as dx\n",
    "\n",
    "protected = np.where(X_test.racepctblack >= 0.5, 'majority_black', \"else\")\n",
    "privileged = 'else'\n",
    "fobject = prediction.model_fairness(protected, privileged)\n",
    "fobject.fairness_check()"
   ]
  },
  {
   "cell_type": "markdown",
   "id": "e129905c",
   "metadata": {},
   "source": [
    "# Plotting the result"
   ]
  },
  {
   "cell_type": "code",
   "execution_count": null,
   "id": "21e0d0d9",
   "metadata": {},
   "outputs": [],
   "source": [
    "fobject.plot()"
   ]
  }
 ],
 "metadata": {
  "kernelspec": {
   "display_name": "CS3960HW",
   "language": "python",
   "name": "cs3960hw"
  },
  "language_info": {
   "codemirror_mode": {
    "name": "ipython",
    "version": 3
   },
   "file_extension": ".py",
   "mimetype": "text/x-python",
   "name": "python",
   "nbconvert_exporter": "python",
   "pygments_lexer": "ipython3",
   "version": "3.9.16"
  }
 },
 "nbformat": 4,
 "nbformat_minor": 5
}
